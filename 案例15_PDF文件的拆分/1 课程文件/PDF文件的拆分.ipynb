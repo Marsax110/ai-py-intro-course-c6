{
 "cells": [
  {
   "cell_type": "markdown",
   "metadata": {},
   "source": [
    "## 0、 创建虚拟环境\n",
    "- 创建虚拟环境"
   ]
  },
  {
   "cell_type": "code",
   "execution_count": null,
   "metadata": {},
   "outputs": [],
   "source": [
    "# 在项目文件夹下，创建虚拟环境（也可以在终端中创建）\n",
    "! python -m venv ../../.venv"
   ]
  },
  {
   "cell_type": "markdown",
   "metadata": {},
   "source": [
    "- 如果在终端中创建虚拟环境，使用下面的命令\n",
    "```shell\n",
    "python -m venv venv\n",
    "```"
   ]
  },
  {
   "cell_type": "markdown",
   "metadata": {},
   "source": [
    "### 1、基础知识"
   ]
  },
  {
   "cell_type": "markdown",
   "metadata": {},
   "source": [
    "#### 1.1、基础知识\n",
    "##### 1.1.1、页码\n",
    "1. 页码在PDF中的作用：用于标识每一页内容的位置，便于引用和跳转。\n",
    "2. 两个页码概念：\n",
    "    - 逻辑页码：从PDF文件的第一页开始按顺序编号，通常从1开始，可被大部分PDF处理库直接操作。\n",
    "    - 可视页码：PDF的可视化显示可能会有前言页（如封面、目录）等，不同于逻辑页码，一般显示在页眉或页脚，可能和逻辑页码无法直接对应。\n",
    "3. 页码在自动化处理中的重要性：对于拆分和提取内容等操作，页码是关键索引，用于定位和操作特定页面内容。\n",
    "# <img src=\"./images/页码.png\" width=\"800\">"
   ]
  },
  {
   "cell_type": "markdown",
   "metadata": {},
   "source": [
    "##### 1.1.2、书签（章节目录）\n",
    "1. 章节在PDF中的作用：用于组织内容结构，便于阅读和理解大文档中的层次关系。\n",
    "2. 章节结构的表示方式：\n",
    "    - 书签：PDF中的书签（目录）通常对应章节结构，包含章节标题和对应的页码。\n",
    "    - 层次级别：章节可以分为不同的层次（如一级、二级标题），反映文档的逻辑结构。\n",
    "3. 章节在自动化处理中的重要性：通过章节结构，能够快速定位特定内容，适合用于大文档的分章节处理或提取。\n",
    "# <img src=\"./images/目录示例.png\" width=\"800\">\n"
   ]
  },
  {
   "cell_type": "markdown",
   "metadata": {},
   "source": [
    "#### 1.2、可能用到的库和包\n",
    "##### PyPDF2\n",
    "\n",
    "1. **功能**：用于处理PDF文件，支持PDF文件的合并、拆分、旋转和元数据操作。\n",
    "2. **特点**：适合基本的PDF文件处理，但对复杂的PDF结构（如书签和图像提取）支持有限。\n",
    "3. **应用场景**：适用于需要简单拆分、合并或操作PDF页面的自动化任务。\n",
    "\n",
    "##### PyMuPDF（fitz）\n",
    "\n",
    "1. **功能**：支持PDF的详细内容操作，包括文本、图像提取和书签结构的解析。\n",
    "2. **特点**：提供全面的PDF内容和结构操作，支持书签、页码和层次结构的读取。\n",
    "3. **应用场景**：适合需要访问PDF内部结构（如章节、书签）的自动化场景，适用于复杂PDF的内容提取和分章节处理。"
   ]
  },
  {
   "cell_type": "markdown",
   "metadata": {},
   "source": [
    "- PyPDF2 与 PyMuPDF(fitz) 的对比\n",
    "\n",
    "| **对比维度**        | **PyPDF2**                                                                 | **PyMuPDF (fitz)**                                                   |\n",
    "|-------------------|-----------------------------------------------------------------------------|---------------------------------------------------------------------|\n",
    "| **功能**          | 主要用于 PDF 文件的基本操作，包括合并、拆分、旋转、元数据读取和操作。                 | 提供更全面的 PDF 内容操作，包括文本和图像提取、书签解析、层次结构读取等。   |\n",
    "| **安装难度**      | 安装较简单，常见于基础 PDF 操作场景。                                           | 安装也较为便捷，但需要了解更多功能的使用方式。                           |\n",
    "| **文本提取能力**  | 提供基本的文本提取功能，支持从 PDF 页面中读取文本，但对复杂布局的支持有限。           | 支持详细的文本提取，能够解析 PDF 中的复杂布局，适合高精度的文本内容获取。     |\n",
    "| **图像提取能力**  | 不支持直接提取图像，只能读取页面内容。                                           | 支持直接从 PDF 中提取图像，可以获取图像的格式、位置等信息。                 |\n",
    "| **书签与元数据**  | 支持简单的元数据读取和修改，但不支持复杂的书签解析。                               | 可以解析并操作 PDF 的书签和层次结构，适合需要处理章节和目录的任务。           |\n",
    "| **处理速度**      | 由于功能简单，处理速度一般较快，适合较小文件或简单任务。                           | 功能更丰富，但对于复杂的任务可能稍慢，适合处理大文件和高精度需求的任务。       |\n",
    "| **适用场景**      | 适用于需要快速完成 PDF 合并、拆分、旋转等基础操作的场景，适合日常自动化任务。           | 更适合需要深入访问 PDF 内部内容，如文本和图像的提取、书签解析的场景。          |\n",
    "| **复杂PDF处理**   | 对复杂的 PDF 文件支持有限，难以处理多层次结构或有复杂布局的 PDF。                     | 对复杂 PDF 的支持较好，可以处理多层次结构和详细内容。                         |\n",
    "| **学习曲线**      | 学习曲线较平缓，简单易用。适合初学者和对 PDF 有基本处理需求的用户。                  | 学习曲线稍陡，需要一定的学习和实践才能熟练掌握，但功能更全面。                 |\n",
    "\n",
    "### 总结建议：\n",
    "- 如果你主要需要的是简单的 PDF 拆分、合并等操作，可以选择 **PyPDF2**，它更简单且足够应对常见的自动化任务。\n",
    "- 如果你需要从 PDF 中提取文本、图像，或处理复杂的书签和目录结构，那么 **PyMuPDF (fitz)** 是更好的选择。"
   ]
  },
  {
   "cell_type": "code",
   "execution_count": null,
   "metadata": {},
   "outputs": [],
   "source": [
    "! pip install PyPDF2\n",
    "! pip install PyMuPDF"
   ]
  },
  {
   "cell_type": "markdown",
   "metadata": {},
   "source": [
    "### 2、定义变量\n",
    "- 定义PDF地址\n",
    "- 定义输出文件夹"
   ]
  },
  {
   "cell_type": "code",
   "execution_count": 8,
   "metadata": {},
   "outputs": [],
   "source": []
  },
  {
   "cell_type": "markdown",
   "metadata": {},
   "source": [
    "### 3、拆分PDF文件"
   ]
  },
  {
   "cell_type": "markdown",
   "metadata": {},
   "source": [
    "#### 3.1、按页码(逻辑页码)进行拆分"
   ]
  },
  {
   "cell_type": "markdown",
   "metadata": {},
   "source": [
    "##### 3.1.1、按页码范围进行拆分\n",
    "- 请注意：\n",
    "    - 逻辑页码和可视页码可能不同，逻辑页码是从0开始计数的，二可视页码会根据PDF的布局和页码设置有所不同。\n",
    "    - 逻辑页码的设置方式应该是：起始页码 - 1，结束页码 - 1。"
   ]
  },
  {
   "cell_type": "code",
   "execution_count": 2,
   "metadata": {},
   "outputs": [],
   "source": []
  },
  {
   "cell_type": "markdown",
   "metadata": {},
   "source": [
    "##### 3.1.2、按单双数页码进行拆分"
   ]
  },
  {
   "cell_type": "code",
   "execution_count": 3,
   "metadata": {},
   "outputs": [],
   "source": []
  },
  {
   "cell_type": "markdown",
   "metadata": {},
   "source": [
    "#### 3.2、按章节进行拆分"
   ]
  },
  {
   "cell_type": "markdown",
   "metadata": {},
   "source": [
    "- 查看章节结构（级别、名称、页码）"
   ]
  },
  {
   "cell_type": "code",
   "execution_count": null,
   "metadata": {},
   "outputs": [],
   "source": []
  },
  {
   "cell_type": "markdown",
   "metadata": {},
   "source": [
    "- 按一级章节进行拆分（关键点：如何判断一级章节的开始和结束）"
   ]
  },
  {
   "cell_type": "code",
   "execution_count": 11,
   "metadata": {},
   "outputs": [],
   "source": []
  }
 ],
 "metadata": {
  "kernelspec": {
   "display_name": "ai-py-intro-course-c5-bn3t7gWW-py3.10",
   "language": "python",
   "name": "python3"
  },
  "language_info": {
   "codemirror_mode": {
    "name": "ipython",
    "version": 3
   },
   "file_extension": ".py",
   "mimetype": "text/x-python",
   "name": "python",
   "nbconvert_exporter": "python",
   "pygments_lexer": "ipython3",
   "version": "3.10.11"
  }
 },
 "nbformat": 4,
 "nbformat_minor": 2
}
