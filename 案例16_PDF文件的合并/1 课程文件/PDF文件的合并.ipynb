{
 "cells": [
  {
   "cell_type": "markdown",
   "metadata": {},
   "source": [
    "##### 如何获取课程中的在线代码仓库：\n",
    "- 如果是使用豆包的MarsCode IDE，请参照第一章1.6节中的相关内容。\n",
    "- 如果想使用Cursor或其他安装在本地电脑的IDE，请参考第一章1.8节中的相关内容。\n",
    "- 关于Cursor的安装和使用，以及本地Python环境的安装，请参考第一章1.7节中的相关内容。\n",
    "\n",
    "**仓库地址**\n",
    "- https://github.com/Marsax110/ai-py-intro-course-c6.git\n",
    "- https://gitee.com/marsax/ai-py-intro-course-c6.git\n",
    "\n",
    "---"
   ]
  },
  {
   "cell_type": "markdown",
   "metadata": {},
   "source": [
    "## 1、案例课程基础信息"
   ]
  },
  {
   "cell_type": "markdown",
   "metadata": {},
   "source": [
    "### 1.案例课程目标\n",
    "- 合并包含多个PDF文件、图片、Word文档，形成一个PDF文件，并生成对应的目录（Bookmarks）\n",
    "  - 在员工手册的基础上，陆续合并保密制度、收入证明、证件复印件\n",
    "  - 其中，保密制度是PDF文件，收入证明是Word文档，证件复印件是图片\n",
    "  - 批量处理多组任务，并记录处理结果，能够应对其中的异常情况\n",
    "\n",
    "---"
   ]
  },
  {
   "cell_type": "markdown",
   "metadata": {},
   "source": [
    "### 1.2、 关键知识点\n",
    "\n",
    "- **With 上下文管理器**：\n",
    "  - **自动管理文件**：处理 PDF 文件时，自动打开和关闭文件，避免占用资源。\n",
    "  - **减少错误**：自动关闭文件，降低手动出错几率。\n",
    "  - **广泛适用**：资源管理方式可用在文件、数据库等多个场景。\n",
    "\n",
    "- **临时文件**：\n",
    "  - **保存中间状态**：在合并步骤中暂时存储文件，确保流程不受影响。\n",
    "  - **保护源文件**：避免直接修改源文件，保持文件原始状态。\n",
    "  - **自动清理**：合并完成后自动删除，保持系统整洁。\n",
    "\n",
    "---"
   ]
  },
  {
   "cell_type": "markdown",
   "metadata": {},
   "source": [
    "### 1.3、所需用到的库\n",
    "\n",
    "#### PyMuPDF（fitz）\n",
    "- **功能**：支持PDF和多种电子书格式的内容操作，包括文本、图像、注释和元数据提取。\n",
    "- **特点**：高效读取和处理PDF的内容结构，支持文本精确定位、图像提取、电子书格式转换。\n",
    "- **应用场景**：适用于需要深入访问PDF结构或处理电子书内容的自动化任务，如内容分析和结构化解析。\n",
    "\n",
    "#### docx2pdf\n",
    "- **功能**：支持将Word文档（.docx）转换为PDF格式。\n",
    "- **特点**：快速便捷地实现单个文件或文件夹批量转换，兼容多种系统环境。\n",
    "- **应用场景**：适合需要将Word文档标准化输出为PDF格式的场景，常用于报告或文件归档的自动化流程。\n",
    "\n",
    "#### Pillow\n",
    "\n",
    "1. **功能**：支持多种图像格式的加载和编辑，并能将图像文件组合或转换为PDF文件。\n",
    "2. **特点**：轻量且高效，能快速将单个或多个图像文件转换为PDF格式，操作简便且兼容性好。\n",
    "3. **应用场景**：在本案例课程中，Pillow主要用于将图片文件（如JPG、PNG格式）转换为PDF文件，适用于将扫描的文档图片或其他图像内容整理为PDF的自动化任务。例如，将一系列图片文件合并为单个PDF文件便于归档或分享。\n"
   ]
  },
  {
   "cell_type": "code",
   "execution_count": null,
   "metadata": {},
   "outputs": [],
   "source": [
    "! pip install PyMuPDF\n",
    "! pip install docx2pdf\n",
    "! pip install Pillow"
   ]
  },
  {
   "cell_type": "markdown",
   "metadata": {},
   "source": [
    "## 0、 和AI沟通，获取实现任务的路径，和技术方案\n",
    "- 拆分为多个步骤\n",
    "- 逐步验证运行过程是否正确\n",
    "- 如果遇到问题，将问题（报错信息或实际运行结果中，不如人意的地方）及时和AI沟通，获取帮助\n",
    "\n",
    "---"
   ]
  },
  {
   "cell_type": "markdown",
   "metadata": {},
   "source": [
    "## 1、定义变量\n",
    "- 员工手册的地址\n",
    "- 保密制度的地址\n",
    "- 收入证明文件夹的地址\n",
    "- 证件复印件文件夹的地址\n",
    "- 输出文件夹的地址"
   ]
  },
  {
   "cell_type": "code",
   "execution_count": 60,
   "metadata": {},
   "outputs": [],
   "source": [
    "# 定义人员list\n",
    "list = [\"杜云龙\", \"李谦\", \"胡楠\", \"李响\", \"吴林海\", \"谢东晋\", \"徐红良\"]"
   ]
  },
  {
   "cell_type": "code",
   "execution_count": 61,
   "metadata": {},
   "outputs": [],
   "source": []
  },
  {
   "cell_type": "markdown",
   "metadata": {},
   "source": [
    "## 2、PDF文件的合并"
   ]
  },
  {
   "cell_type": "markdown",
   "metadata": {},
   "source": [
    "### 2.1、基于员工手册，合并保密制度\n",
    "1. 先完成第一步的合并，因为涉及到目录（书签）的修改，建议使用PyMuPDF库\n",
    "2. 将已经可以顺利运行的代码转为函数\n",
    "3. 因为后续还需继续合并其他pdf文件，要求转为符合最佳实践的方法"
   ]
  },
  {
   "cell_type": "code",
   "execution_count": 62,
   "metadata": {},
   "outputs": [],
   "source": []
  },
  {
   "cell_type": "markdown",
   "metadata": {},
   "source": [
    "### 2.2、编写函数将收入证明(Word文档)转为PDF文件\n",
    "- 使用docx2pdf库\n",
    "- 转成的PDF文件，作为临时文件，后续需要在使用后将其删除"
   ]
  },
  {
   "cell_type": "code",
   "execution_count": null,
   "metadata": {},
   "outputs": [],
   "source": []
  },
  {
   "cell_type": "markdown",
   "metadata": {},
   "source": [
    "### 2.3、 编写函数将员工证件复印件(图片文件)转为PDF文件\n",
    "- 使用Pillow库\n",
    "- 转成的PDF文件，作为临时文件，后续需要在使用后将其删除\n",
    "- 保存为A4纸大小"
   ]
  },
  {
   "cell_type": "code",
   "execution_count": null,
   "metadata": {},
   "outputs": [],
   "source": []
  },
  {
   "cell_type": "markdown",
   "metadata": {},
   "source": [
    "### 2.4、定义需要处理的人员名单，并依次处理\n",
    "- 先从list中的其中一个人开始，可以顺利运行后，再升级代码为循环处理整个list\n",
    "- 增加异常处理，如果某个人的文件处理失败，则跳过，继续处理下一个"
   ]
  },
  {
   "cell_type": "code",
   "execution_count": null,
   "metadata": {},
   "outputs": [],
   "source": []
  }
 ],
 "metadata": {
  "kernelspec": {
   "display_name": "ai-py-intro-course-c5-bn3t7gWW-py3.10",
   "language": "python",
   "name": "python3"
  },
  "language_info": {
   "codemirror_mode": {
    "name": "ipython",
    "version": 3
   },
   "file_extension": ".py",
   "mimetype": "text/x-python",
   "name": "python",
   "nbconvert_exporter": "python",
   "pygments_lexer": "ipython3",
   "version": "3.10.11"
  }
 },
 "nbformat": 4,
 "nbformat_minor": 2
}
