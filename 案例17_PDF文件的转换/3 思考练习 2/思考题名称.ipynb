{
 "cells": [
  {
   "cell_type": "markdown",
   "metadata": {},
   "source": [
    "# X.X.2 思考练习题：案例名称"
   ]
  },
  {
   "cell_type": "markdown",
   "metadata": {},
   "source": [
    "### 题目：\n",
    "- 在此前的课程中，我们学会了如何从报名表中提取所有的报名信息并汇总为 Excel 文件。\n",
    "\n",
    "- `现在的练习题中，你需要编写代码，只提取报名表中性别为“女”的报名者数据。提取的数据同样需要汇总为一个 Excel 文件，保存到指定路径中。`\n",
    "\n",
    "### 思考内容：\n",
    "- 如何向 AI 描述筛选性别为“女”的报名者数据的需求？如何让 AI 在提取数据时根据性别字段自动筛选？\n",
    "\n",
    "- 在提取数据并筛选时，如何处理可能存在的性别数据不规范问题（如输入为“Female”或“F”等）？你可以通过哪些方法确保筛选逻辑的灵活性？\n",
    "\n",
    "- 在实际应用中，类似的基于特定条件筛选并提取数据的需求（如按照部门、职级筛选员工信息）还有哪些？如何设计代码让其适应更多的筛选条件？\n",
    "\n",
    "\n",
    "注：若遇到筛选逻辑复杂或数据不规范的处理问题，可以与 AI 助手讨论解决方案，或参考在线资源来优化代码逻辑。"
   ]
  },
  {
   "cell_type": "code",
   "execution_count": null,
   "metadata": {
    "vscode": {
     "languageId": "plaintext"
    }
   },
   "outputs": [],
   "source": []
  }
 ],
 "metadata": {
  "kernelspec": {
   "display_name": "ai-py-intro-course-c5-bn3t7gWW-py3.10",
   "language": "python",
   "name": "python3"
  },
  "language_info": {
   "codemirror_mode": {
    "name": "ipython",
    "version": 3
   },
   "file_extension": ".py",
   "mimetype": "text/x-python",
   "name": "python",
   "nbconvert_exporter": "python",
   "pygments_lexer": "ipython3",
   "version": "3.10.11"
  }
 },
 "nbformat": 4,
 "nbformat_minor": 2
}
