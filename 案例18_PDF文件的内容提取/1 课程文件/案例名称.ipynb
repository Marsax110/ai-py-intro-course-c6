{
 "cells": [
  {
   "cell_type": "markdown",
   "metadata": {},
   "source": [
    "## 0、 创建虚拟环境\n",
    "- 创建虚拟环境"
   ]
  },
  {
   "cell_type": "code",
   "execution_count": 6,
   "metadata": {},
   "outputs": [
    {
     "name": "stderr",
     "output_type": "stream",
     "text": [
      "Error: [Errno 13] Permission denied: 'd:\\\\code\\\\ai-py-course-templet\\\\.venv\\\\Scripts\\\\python.exe'\n"
     ]
    }
   ],
   "source": [
    "# 在项目文件夹下，创建虚拟环境（也可以在终端中创建）\n",
    "! python -m venv ../../.venv"
   ]
  },
  {
   "cell_type": "markdown",
   "metadata": {},
   "source": [
    "- 如果在终端中创建虚拟环境，使用下面的命令\n",
    "```shell\n",
    "python -m venv venv\n",
    "```"
   ]
  }
 ],
 "metadata": {
  "kernelspec": {
   "display_name": "ai-py-intro-course-c5-bn3t7gWW-py3.10",
   "language": "python",
   "name": "python3"
  },
  "language_info": {
   "codemirror_mode": {
    "name": "ipython",
    "version": 3
   },
   "file_extension": ".py",
   "mimetype": "text/x-python",
   "name": "python",
   "nbconvert_exporter": "python",
   "pygments_lexer": "ipython3",
   "version": "3.10.11"
  }
 },
 "nbformat": 4,
 "nbformat_minor": 2
}
